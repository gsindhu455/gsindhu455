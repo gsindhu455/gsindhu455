{
 "cells": [
  {
   "cell_type": "code",
   "execution_count": 4,
   "metadata": {},
   "outputs": [
    {
     "name": "stdout",
     "output_type": "stream",
     "text": [
      "Hey!\n",
      "welcome\n",
      "to\n",
      "edureka\n",
      "Hey! welcome to edureka\n"
     ]
    }
   ],
   "source": [
    "text1 = 'Hey! welcome to edureka'\n",
    "\n",
    "for text in text1.split(' '):\n",
    "    print(text)\n",
    "print(text1)"
   ]
  },
  {
   "cell_type": "code",
   "execution_count": 17,
   "metadata": {},
   "outputs": [
    {
     "name": "stdout",
     "output_type": "stream",
     "text": [
      "100\n",
      "200\n",
      "[100, 102, 104, 106, 108, 110, 112, 114, 116, 118, 120, 122, 124, 126, 128, 130, 132, 134, 136, 138, 140, 142, 144, 146, 148, 150, 152, 154, 156, 158, 160, 162, 164, 166, 168, 170, 172, 174, 176, 178, 180, 182, 184, 186, 188, 190, 192, 194, 196, 198]\n"
     ]
    }
   ],
   "source": [
    "x = input()\n",
    "y = input()\n",
    "my_num = list(range(100,200,2))\n",
    "print(my_num)"
   ]
  },
  {
   "cell_type": "code",
   "execution_count": 2,
   "metadata": {},
   "outputs": [
    {
     "name": "stdout",
     "output_type": "stream",
     "text": [
      "i love apples oranges\n",
      "apples\n",
      "oranges\n",
      "i love oranges oranges\n"
     ]
    }
   ],
   "source": [
    "word = input()\n",
    "x = input()\n",
    "y = input()\n",
    "print(word.replace(x,y))"
   ]
  },
  {
   "cell_type": "code",
   "execution_count": 3,
   "metadata": {},
   "outputs": [
    {
     "name": "stdout",
     "output_type": "stream",
     "text": [
      "How many terms10\n",
      "0 1 1 2 3 5 8 13 21 34 "
     ]
    }
   ],
   "source": [
    "# Program to display the Fibonacci Series\n",
    "no_of_terms = int(input (\"How many terms\"))-1\n",
    "no_1 = 0\n",
    "no_2 = 1\n",
    "print(no_1, end = ' ')\n",
    "while no_of_terms:\n",
    "    nth = no_1 + no_2\n",
    "    no_1 = no_2\n",
    "    no_2 = nth\n",
    "    print(no_1, end = ' ')\n",
    "    no_of_terms = no_of_terms-1      "
   ]
  },
  {
   "cell_type": "code",
   "execution_count": null,
   "metadata": {},
   "outputs": [],
   "source": [
    "#fibonacci series\n",
    "num = int(input('how many terms'))\n",
    "no_1 = 0\n",
    "no_2 = 1\n",
    "count = 0\n",
    "if num <= 0:\n",
    "    print('please enter only positive numbers')\n",
    "elif num == 1:\n",
    "    print(no_1)\n",
    "else:\n",
    "    while count < num:\n",
    "        print(no_1,end = ' ')\n",
    "        nth = no_1 + no_2\n",
    "        no_1 = no_2\n",
    "        no_2 = nth\n",
    "        count += 1 "
   ]
  },
  {
   "cell_type": "code",
   "execution_count": 12,
   "metadata": {},
   "outputs": [
    {
     "name": "stdout",
     "output_type": "stream",
     "text": [
      "please enter the integer1512\n",
      "9"
     ]
    }
   ],
   "source": [
    "#sum of digits in a integer\n",
    "N = int(input('please enter the integer'))\n",
    "sum = 0\n",
    "while N:\n",
    "    sum = sum + (N%10)\n",
    "    N = N//10\n",
    "print(sum)   "
   ]
  },
  {
   "cell_type": "code",
   "execution_count": 18,
   "metadata": {},
   "outputs": [
    {
     "name": "stdout",
     "output_type": "stream",
     "text": [
      "please enter the positive integer5\n",
      "120\n"
     ]
    }
   ],
   "source": [
    "#\n",
    "N = int(input('please enter the positive integer'))\n",
    "num = 1\n",
    "while N:\n",
    "    num = num*N\n",
    "    N = N-1\n",
    "print(num)"
   ]
  },
  {
   "cell_type": "code",
   "execution_count": 20,
   "metadata": {},
   "outputs": [
    {
     "name": "stdout",
     "output_type": "stream",
     "text": [
      "*\n",
      "**\n",
      "***\n",
      "****\n",
      "*****\n"
     ]
    }
   ],
   "source": [
    "print(\"*\\n**\\n***\\n****\\n*****\")"
   ]
  },
  {
   "cell_type": "code",
   "execution_count": 21,
   "metadata": {},
   "outputs": [
    {
     "name": "stdout",
     "output_type": "stream",
     "text": [
      "*\n",
      "**\n",
      "***\n",
      "****\n",
      "*****\n"
     ]
    }
   ],
   "source": [
    "for i in range(5):\n",
    "    print('*'*(i+1))"
   ]
  },
  {
   "cell_type": "code",
   "execution_count": 5,
   "metadata": {},
   "outputs": [
    {
     "name": "stdout",
     "output_type": "stream",
     "text": [
      "please enter the number3\n",
      "    *\n",
      "   ***\n",
      "  *****\n"
     ]
    }
   ],
   "source": [
    "N = int(input('please enter the number'))\n",
    "for i in range(N):\n",
    "    print(' '*(N-i+1) +'*'*(2*i+1))"
   ]
  },
  {
   "cell_type": "code",
   "execution_count": 27,
   "metadata": {},
   "outputs": [
    {
     "name": "stdout",
     "output_type": "stream",
     "text": [
      "1 \n",
      "2 3 \n",
      "3 4 5 \n",
      "4 5 6 7 \n",
      "5 6 7 8 9 \n"
     ]
    }
   ],
   "source": [
    "N = list(range(1,11))\n",
    "for i in range(5):\n",
    "    for j in range(i+1):\n",
    "        print(N[i+j],end = ' ')\n",
    "    print()"
   ]
  },
  {
   "cell_type": "code",
   "execution_count": 57,
   "metadata": {
    "scrolled": true
   },
   "outputs": [
    {
     "name": "stdout",
     "output_type": "stream",
     "text": [
      "9\n",
      "8\n",
      "7\n",
      "6\n",
      "4\n",
      "2\n",
      "1\n",
      "5\n",
      "3\n",
      "10\n",
      "[8, 7, 6, 4, 2, 1, 5, 3, 10]\n"
     ]
    }
   ],
   "source": [
    "N=int(input())\n",
    "numlist=[]\n",
    "for i in range(N):\n",
    "    numlist.append(int(input()))\n",
    "print(numlist)"
   ]
  },
  {
   "cell_type": "code",
   "execution_count": 62,
   "metadata": {},
   "outputs": [
    {
     "name": "stdout",
     "output_type": "stream",
     "text": [
      "153\n",
      "yes\n"
     ]
    }
   ],
   "source": [
    "num = input()\n",
    "s = 0\n",
    "for i in num:\n",
    "    s = s+int(i)**3\n",
    "if s==int(num):\n",
    "    print('yes')\n",
    "else:\n",
    "    print('no')\n",
    "    "
   ]
  },
  {
   "cell_type": "code",
   "execution_count": 5,
   "metadata": {},
   "outputs": [
    {
     "name": "stdout",
     "output_type": "stream",
     "text": [
      "4\n",
      "5\n",
      "6\n",
      "23\n"
     ]
    }
   ],
   "source": [
    "N = int(input())\n",
    "a = int(input())\n",
    "d = int(input())\n",
    "num = a+(N-1)*d\n",
    "print(num)"
   ]
  },
  {
   "cell_type": "code",
   "execution_count": 9,
   "metadata": {},
   "outputs": [
    {
     "name": "stdout",
     "output_type": "stream",
     "text": [
      "4,5,6\n",
      "[5, 30, 180, 1080]\n"
     ]
    }
   ],
   "source": [
    "N,a,r = map(int,input().split(','))\n",
    "seq = []\n",
    "for i in range(N):\n",
    "    seq.append(a*r**(i))\n",
    "print(seq)"
   ]
  },
  {
   "cell_type": "code",
   "execution_count": 8,
   "metadata": {},
   "outputs": [
    {
     "name": "stdout",
     "output_type": "stream",
     "text": [
      "Happy Birthday ABHI.Now you are 32!!\n",
      "upper case letters:  7\n",
      "lower case letters:  19\n",
      "numbers:  2\n",
      "special characters:  8\n"
     ]
    }
   ],
   "source": [
    "sentence = input()\n",
    "up=0\n",
    "lo=0\n",
    "num=0\n",
    "sc=0\n",
    "for i in sentence:\n",
    "    if i.isupper():\n",
    "        up=up+1\n",
    "    elif i.islower():\n",
    "        lo=lo+1\n",
    "    elif i.isdigit():\n",
    "        num=num+1\n",
    "    else:\n",
    "        sc=sc+1\n",
    "        \n",
    "print('upper case letters: ',up)\n",
    "print('lower case letters: ',lo)\n",
    "print('numbers: ',num) \n",
    "print('special characters: ',sc)"
   ]
  },
  {
   "cell_type": "code",
   "execution_count": 12,
   "metadata": {},
   "outputs": [
    {
     "name": "stdout",
     "output_type": "stream",
     "text": [
      "mom\n",
      "yes, the text is palindrome\n"
     ]
    }
   ],
   "source": [
    "text = input()\n",
    "if text==text[::-1]:\n",
    "    print('yes, the text is palindrome')\n",
    "else:\n",
    "    print('No, the string is not a palindrome')"
   ]
  },
  {
   "cell_type": "code",
   "execution_count": 25,
   "metadata": {},
   "outputs": [
    {
     "name": "stdout",
     "output_type": "stream",
     "text": [
      "3\n",
      "3\n",
      "2\n",
      "1\n",
      "[1, 2, 3]\n"
     ]
    }
   ],
   "source": [
    "V = input()\n",
    "list=[]\n",
    "for i in range(int(V)):\n",
    "    list.append(int(input()))\n",
    "list.sort()\n",
    "print(list)"
   ]
  },
  {
   "cell_type": "code",
   "execution_count": 47,
   "metadata": {},
   "outputs": [
    {
     "name": "stdout",
     "output_type": "stream",
     "text": [
      "(4, 0, -4)\n",
      "(3, 0, -3)\n",
      "(2, 0, -2)\n",
      "(-1, 5, -4)\n",
      "(-3, 5, -2)\n",
      "(-1, 3, -2)\n",
      "(4, -1, -3)\n",
      "<class 'tuple'>\n",
      "9\n"
     ]
    }
   ],
   "source": [
    "num=[0, 5, 2, 3, -1, 4, -4, -3, -2]\n",
    "n=len(num)\n",
    "for i in range(n - 1):\n",
    "    s=set()\n",
    "    for j in range(i+1, n):\n",
    "        x= -(num[i]+num[j])\n",
    "        if x in s:\n",
    "            final = ((x,num[i],num[j]))\n",
    "            print(final)\n",
    "        else:\n",
    "            s.add(num[j])\n",
    "print(type(final))\n",
    "print(n)"
   ]
  },
  {
   "cell_type": "code",
   "execution_count": 67,
   "metadata": {},
   "outputs": [
    {
     "name": "stdout",
     "output_type": "stream",
     "text": [
      "['a'] ['b'] ['c'] ['d'] ['e'] ['f'] ['g'] ['h'] ['i'] ['j'] ['k'] ['l'] ['m'] ['n'] ['o'] ['p'] ['q'] ['r'] ['s'] ['t'] ['u'] ['v'] ['w'] ['x'] ['y'] ['z'] "
     ]
    }
   ],
   "source": [
    "for alphabet in range(97,123):\n",
    "    print(chr(alphabet).split(','),end=' ')\n",
    "    \n",
    "        "
   ]
  },
  {
   "cell_type": "code",
   "execution_count": 71,
   "metadata": {},
   "outputs": [
    {
     "name": "stdout",
     "output_type": "stream",
     "text": [
      "a b c d e f g h i j k l m n o p q r s t u v w x y z \n",
      "A B C D E F G H I J K L M N O P Q R S T U V W X Y Z "
     ]
    }
   ],
   "source": [
    "import string\n",
    "for lletter in string.ascii_lowercase:\n",
    "    print(lletter,end=' ')\n",
    "print()\n",
    "for uletter in string.ascii_uppercase:\n",
    "    print(uletter,end=' ')"
   ]
  },
  {
   "cell_type": "code",
   "execution_count": 81,
   "metadata": {},
   "outputs": [
    {
     "name": "stdout",
     "output_type": "stream",
     "text": [
      "Yes\n",
      "['a', 'd', 'e', 'k', 'r', 'u']\n"
     ]
    }
   ],
   "source": [
    "A ={'c','a','d','e','k','r','u','q','r','y'}\n",
    "B ={'b','h','k','a','d','e','k','r','u'}\n",
    "word=set('edureka')\n",
    "if len(A.intersection(B).difference(word))==0:\n",
    "    print('Yes')\n",
    "else:\n",
    "    print('No')\n",
    "print(sorted(word))"
   ]
  },
  {
   "cell_type": "code",
   "execution_count": 80,
   "metadata": {},
   "outputs": [
    {
     "name": "stdout",
     "output_type": "stream",
     "text": [
      "['a', 'b', 'c', 'd', 'e', 'f', 'g', 'h', 'i', 'j', 'k', 'l']\n"
     ]
    }
   ],
   "source": [
    "A={'a','c','e','g','i','k'}\n",
    "B={'b','d','f','h','j','l'}\n",
    "word = A.union(B)\n",
    "print(sorted(word))"
   ]
  },
  {
   "cell_type": "code",
   "execution_count": 82,
   "metadata": {},
   "outputs": [
    {
     "name": "stdout",
     "output_type": "stream",
     "text": [
      "False\n",
      "False\n",
      "False\n",
      "{'e', 'g', 'c', 'a', 'k', 'i'}\n",
      "['a', 'c', 'e', 'f', 'g', 'h', 'i', 'j', 'k', 'l', 'n']\n"
     ]
    }
   ],
   "source": [
    "A={'a','b','c','d','e','g','i','k'}\n",
    "B={'b','d','f','h','j','l','n'}\n",
    "print(B.isdisjoint(A))\n",
    "print(B.issubset(A))\n",
    "print(A.issuperset(B))\n",
    "word = A.difference(B)\n",
    "print(word)\n",
    "word1 = A.symmetric_difference(B)\n",
    "print(sorted(word1))\n",
    "#update will update the sets"
   ]
  },
  {
   "cell_type": "code",
   "execution_count": 93,
   "metadata": {},
   "outputs": [
    {
     "name": "stdout",
     "output_type": "stream",
     "text": [
      "None\n",
      "{'l', 'f', 'j', 'd', 'h', 'b'}\n"
     ]
    }
   ],
   "source": [
    "A={'a','c','e','g','i','k'}\n",
    "B={'a','b','d','f','h','j','k','l'}\n",
    "print(B.difference_update(A))\n",
    "print(B)\n"
   ]
  },
  {
   "cell_type": "code",
   "execution_count": 108,
   "metadata": {},
   "outputs": [
    {
     "name": "stdout",
     "output_type": "stream",
     "text": [
      "sindhu abhishek\n",
      "uhdnis kehsihba \n"
     ]
    }
   ],
   "source": [
    "text = input().split(' ')\n",
    "rev=''\n",
    "for i in text:\n",
    "    rev=rev+i[::-1]+' '\n",
    "print(rev)"
   ]
  },
  {
   "cell_type": "code",
   "execution_count": 101,
   "metadata": {},
   "outputs": [
    {
     "name": "stdout",
     "output_type": "stream",
     "text": [
      "sindhu abhishek\n",
      "kehsihba uhdnis\n"
     ]
    }
   ],
   "source": [
    "text = input()\n",
    "print(text[::-1])\n"
   ]
  },
  {
   "cell_type": "code",
   "execution_count": 114,
   "metadata": {},
   "outputs": [
    {
     "name": "stdout",
     "output_type": "stream",
     "text": [
      "5 200\n",
      "65 195 "
     ]
    }
   ],
   "source": [
    "x,y = map(int,input().split(' '))\n",
    "div1=13\n",
    "div2=5\n",
    "for i in range(x,y+1):\n",
    "    if i%div1==0 and i%div2==0 and i%10!=0:\n",
    "        print(i,end=' ')"
   ]
  },
  {
   "cell_type": "code",
   "execution_count": 122,
   "metadata": {},
   "outputs": [
    {
     "name": "stdout",
     "output_type": "stream",
     "text": [
      "enter the number3\n",
      "2,4,6\n",
      "permutations:  [[6, 4, 2], [4, 6, 2], [4, 2, 6], [6, 2, 4], [2, 6, 4], [2, 4, 6]]\n"
     ]
    }
   ],
   "source": [
    "N=int(input('enter the number'))\n",
    "seq=map(int,input().split(','))\n",
    "p=[[]]\n",
    "for num in seq:\n",
    "    temp = []\n",
    "    for perm in p:\n",
    "        for i in range(len(perm)+1):\n",
    "            temp.append(perm[:i] + [num] + perm[i:])\n",
    "            p=temp\n",
    "print('permutations: ',p)\n",
    "        "
   ]
  },
  {
   "cell_type": "code",
   "execution_count": 127,
   "metadata": {},
   "outputs": [
    {
     "name": "stdout",
     "output_type": "stream",
     "text": [
      "<class 'set'>\n",
      "{'Aron': 45.8, 'Jackson': 51.0, 'Isla': 50.6, 'Ahree': 66.6, 'Gray': 46.8, 'Gloria': 50.4, 'Sam': 62.6}\n"
     ]
    }
   ],
   "source": [
    "tests={'English':{'Sam':60,'Jackson':74,'Ahree':85},\n",
    "      'History':{'Gloria':83,'Sam':65,'Isla':78,'Aron':72,'Gray':61},\n",
    "      'Geography':{'Jackson':92,'Gloria':95,'Isla':82,'Aron':75,'Ahree':76},\n",
    "      'Mathematics':{'Sam':99,'Gloria':74,'Jackson':89,'Ahree':85,'Gray':95},\n",
    "      'Science':{'Sam':89,'Aron':82,'Gray':78,'Isla':93,'Ahree':87}\n",
    "      }\n",
    "keys=[]\n",
    "for i in tests:\n",
    "    keys.extend(tests[i].keys())\n",
    "keys=set(keys)\n",
    "print(type(keys))\n",
    "avg=dict.fromkeys(keys,0)\n",
    "\n",
    "for i in tests:\n",
    "    for key in tests[i]:\n",
    "        avg[key]=avg.get(key)+tests[i][key]\n",
    "\n",
    "for i in avg:\n",
    "    avg[i]=avg[i]/5\n",
    "print(avg)\n",
    "\n",
    "\n"
   ]
  },
  {
   "cell_type": "code",
   "execution_count": 129,
   "metadata": {},
   "outputs": [
    {
     "name": "stdout",
     "output_type": "stream",
     "text": [
      "anurag\n",
      "5\n",
      "1\n",
      "arohi\n",
      "6\n",
      "2\n"
     ]
    }
   ],
   "source": [
    "data={'Name':[],'Class':[],'Age':[]}\n",
    "for i in range(2):\n",
    "    data['Name'].append(input())\n",
    "    data['Class'].append(input())\n",
    "    data['Age'].append(input())"
   ]
  },
  {
   "cell_type": "code",
   "execution_count": 130,
   "metadata": {},
   "outputs": [
    {
     "name": "stdout",
     "output_type": "stream",
     "text": [
      "{'A': 10, 'B': 20, 'C': 30, 'D': 40, 'E': 50, 'F': 60}\n"
     ]
    }
   ],
   "source": [
    "dict1={'A':10,'B':20}\n",
    "dict2={'C':30,'D':40}\n",
    "dict3={'E':50,'F':60}\n",
    "new=dict()\n",
    "new.update(dict1)\n",
    "new.update(dict2)\n",
    "new.update(dict3)\n",
    "print(new)\n"
   ]
  },
  {
   "cell_type": "code",
   "execution_count": 135,
   "metadata": {},
   "outputs": [
    {
     "data": {
      "text/plain": [
       "'/Volumes/Personal/Python and AI and ML'"
      ]
     },
     "execution_count": 135,
     "metadata": {},
     "output_type": "execute_result"
    }
   ],
   "source": [
    "import os\n",
    "os.getcwd()"
   ]
  },
  {
   "cell_type": "code",
   "execution_count": 153,
   "metadata": {},
   "outputs": [
    {
     "name": "stdout",
     "output_type": "stream",
     "text": [
      "10\n",
      "['1\\n', '2\\n', '3\\n', '5\\n', '7\\n', '11\\n']\n"
     ]
    }
   ],
   "source": [
    "file=open('sample.txt','w')\n",
    "for num in range(1,100):\n",
    "    flag = True\n",
    "    for i in range(2,num):\n",
    "        if (num%i)==0:\n",
    "            flag = False\n",
    "            break\n",
    "    if flag:\n",
    "            file.write(str(num)+'\\n')\n",
    "file.close()\n",
    "\n",
    "N=int(input())\n",
    "text=open('sample.txt','r')\n",
    "s=text.readlines(N)\n",
    "print(s)\n",
    "file.close()"
   ]
  },
  {
   "cell_type": "code",
   "execution_count": 163,
   "metadata": {},
   "outputs": [],
   "source": [
    "file=open('sample.txt','w')\n",
    "for num in range(1,500):\n",
    "    file.write(str(num)+'\\n')\n",
    "file.close()\n"
   ]
  },
  {
   "cell_type": "code",
   "execution_count": 167,
   "metadata": {},
   "outputs": [
    {
     "name": "stdout",
     "output_type": "stream",
     "text": [
      "1\n",
      "153\n",
      "370\n",
      "371\n",
      "407\n"
     ]
    }
   ],
   "source": [
    "file=open('sample.txt','r')\n",
    "for i in file.readlines():\n",
    "    num=i[:-1]\n",
    "    s=0\n",
    "    for p in num:\n",
    "        s=s+int(p)**3\n",
    "    if s==int(num):\n",
    "        print(num)\n",
    "file.close()\n",
    "    "
   ]
  },
  {
   "cell_type": "code",
   "execution_count": 177,
   "metadata": {},
   "outputs": [
    {
     "name": "stdout",
     "output_type": "stream",
     "text": [
      "p\n",
      "Draw\n",
      "Play?yes\n",
      "r\n",
      "Lose\n",
      "Play?yes\n",
      "s\n",
      "Win\n",
      "Play?no\n"
     ]
    }
   ],
   "source": [
    "import random\n",
    "p1=0\n",
    "p2=0\n",
    "win_lose={'Lose':['rp','ps','sr'],'Draw':['rr','pp','ss'],'Win':['rs','pr','sp']}\n",
    "repeat='yes'\n",
    "c=['r','s','p']\n",
    "while repeat=='yes':\n",
    "    turn=input()\n",
    "    comp=random.choice(c)\n",
    "    for i in win_lose:\n",
    "        if str(turn)+comp in win_lose[i]:\n",
    "            print(i)\n",
    "            repeat=input('Play?')\n",
    "                                       "
   ]
  },
  {
   "cell_type": "code",
   "execution_count": 180,
   "metadata": {},
   "outputs": [
    {
     "name": "stdout",
     "output_type": "stream",
     "text": [
      "1\n"
     ]
    }
   ],
   "source": [
    "num=random.randint(1,6)\n",
    "print(num)"
   ]
  },
  {
   "cell_type": "code",
   "execution_count": 193,
   "metadata": {},
   "outputs": [
    {
     "name": "stdout",
     "output_type": "stream",
     "text": [
      "enter amount deposited: 100000\n",
      "enter the withdrawl amount: 2000\n",
      "Deposit Balance: 100000\n",
      "withdrawl balance:  98000\n"
     ]
    },
    {
     "data": {
      "text/plain": [
       "98000"
      ]
     },
     "execution_count": 193,
     "metadata": {},
     "output_type": "execute_result"
    }
   ],
   "source": [
    "import functools\n",
    "def make_account():\n",
    "    return{'balance': 0}\n",
    "\n",
    "def deposit(account, amount):\n",
    "    account['balance'] += amount\n",
    "    print('Deposit Balance:' ,account['balance'])\n",
    "    return account['balance']\n",
    "\n",
    "def withdraw(account, amount):\n",
    "    account['balance'] -= amount\n",
    "    print('withdrawl balance: ' ,account['balance'])\n",
    "    return account['balance']\n",
    "\n",
    "a=make_account()\n",
    "\n",
    "amt=int(input('enter amount deposited: '))\n",
    "amount=int(input('enter the withdrawl amount: '))\n",
    "deposit(a,amt)\n",
    "withdraw(a,amount)\n",
    "    "
   ]
  },
  {
   "cell_type": "code",
   "execution_count": 195,
   "metadata": {},
   "outputs": [
    {
     "name": "stdout",
     "output_type": "stream",
     "text": [
      "enter the date in YYYY-MM-DD format: 2021-01-02\n",
      "enter the date in YYYY-MM-DD format: 2021-01-16\n",
      "14 days\n"
     ]
    }
   ],
   "source": [
    "import datetime\n",
    "def numofdays(date1,date2):\n",
    "    return (date2-date1).days\n",
    "\n",
    "date1_ent =(input('enter the date in YYYY-MM-DD format: '))\n",
    "year, month, day= map(int,date1_ent.split('-'))\n",
    "date1 = datetime.date(year, month, day)\n",
    "date2_ent =(input('enter the date in YYYY-MM-DD format: '))\n",
    "year, month, day= map(int,date2_ent.split('-'))\n",
    "date2 = datetime.date(year, month, day)\n",
    "print(numofdays(date1,date2), 'days')"
   ]
  },
  {
   "cell_type": "code",
   "execution_count": 4,
   "metadata": {},
   "outputs": [
    {
     "name": "stdout",
     "output_type": "stream",
     "text": [
      "enter the text: gsindhu455@gmail.com\n",
      "['gsindhu455@gmail.com']\n"
     ]
    }
   ],
   "source": [
    "import re\n",
    "s=input('enter the text: ')\n",
    "m = re.findall('\\S+[a-z0-9.]+@[a-z]+.com$',s)\n",
    "print(m)"
   ]
  },
  {
   "cell_type": "code",
   "execution_count": null,
   "metadata": {},
   "outputs": [],
   "source": []
  },
  {
   "cell_type": "code",
   "execution_count": 33,
   "metadata": {},
   "outputs": [
    {
     "name": "stdout",
     "output_type": "stream",
     "text": [
      "enter the length of pwd: 10\n",
      "Q\n"
     ]
    }
   ],
   "source": [
    "import string,random,re\n",
    "n=int(input('enter the length of pwd: '))\n",
    "pwd = ''.join(random.choice(string.ascii_uppercase + string.ascii_lowercase + string.digits))\n",
    "print(pwd)"
   ]
  },
  {
   "cell_type": "code",
   "execution_count": 37,
   "metadata": {},
   "outputs": [
    {
     "name": "stdout",
     "output_type": "stream",
     "text": [
      "enter the length of pwd: 10\n",
      "t\n"
     ]
    }
   ],
   "source": [
    "import string,random,re\n",
    "n=int(input('enter the length of pwd: '))\n",
    "pwd = 'p'.join(random.choice(string.ascii_uppercase + string.ascii_lowercase + string.digits))\n",
    "print(pwd)"
   ]
  },
  {
   "cell_type": "code",
   "execution_count": 46,
   "metadata": {},
   "outputs": [
    {
     "name": "stdout",
     "output_type": "stream",
     "text": [
      "enter a password\n",
      "\n",
      "The password must be between 6 to 14 characers.\n",
      "\n",
      "password: @Bhi2327\n"
     ]
    },
    {
     "ename": "KeyError",
     "evalue": "4",
     "output_type": "error",
     "traceback": [
      "\u001b[0;31m---------------------------------------------------------------------------\u001b[0m",
      "\u001b[0;31mKeyError\u001b[0m                                  Traceback (most recent call last)",
      "\u001b[0;32m<ipython-input-46-4060542f4162>\u001b[0m in \u001b[0;36m<module>\u001b[0;34m\u001b[0m\n\u001b[1;32m     22\u001b[0m \u001b[0;34m\u001b[0m\u001b[0m\n\u001b[1;32m     23\u001b[0m     \u001b[0mprint\u001b[0m\u001b[0;34m(\u001b[0m\u001b[0;34m'password is %s'\u001b[0m \u001b[0;34m%\u001b[0m\u001b[0mpassword_scores\u001b[0m\u001b[0;34m[\u001b[0m\u001b[0mscore\u001b[0m\u001b[0;34m]\u001b[0m\u001b[0;34m)\u001b[0m\u001b[0;34m\u001b[0m\u001b[0;34m\u001b[0m\u001b[0m\n\u001b[0;32m---> 24\u001b[0;31m \u001b[0mpassword\u001b[0m\u001b[0;34m(\u001b[0m\u001b[0;34m)\u001b[0m\u001b[0;34m\u001b[0m\u001b[0;34m\u001b[0m\u001b[0m\n\u001b[0m",
      "\u001b[0;32m<ipython-input-46-4060542f4162>\u001b[0m in \u001b[0;36mpassword\u001b[0;34m()\u001b[0m\n\u001b[1;32m     21\u001b[0m     \u001b[0mscore\u001b[0m \u001b[0;34m=\u001b[0m \u001b[0mlen\u001b[0m\u001b[0;34m(\u001b[0m\u001b[0;34m[\u001b[0m\u001b[0mb\u001b[0m \u001b[0;32mfor\u001b[0m \u001b[0mb\u001b[0m \u001b[0;32min\u001b[0m \u001b[0mpassword_strength\u001b[0m\u001b[0;34m.\u001b[0m\u001b[0mvalues\u001b[0m\u001b[0;34m(\u001b[0m\u001b[0;34m)\u001b[0m \u001b[0;32mif\u001b[0m \u001b[0mb\u001b[0m\u001b[0;34m]\u001b[0m\u001b[0;34m)\u001b[0m\u001b[0;34m\u001b[0m\u001b[0;34m\u001b[0m\u001b[0m\n\u001b[1;32m     22\u001b[0m \u001b[0;34m\u001b[0m\u001b[0m\n\u001b[0;32m---> 23\u001b[0;31m     \u001b[0mprint\u001b[0m\u001b[0;34m(\u001b[0m\u001b[0;34m'password is %s'\u001b[0m \u001b[0;34m%\u001b[0m\u001b[0mpassword_scores\u001b[0m\u001b[0;34m[\u001b[0m\u001b[0mscore\u001b[0m\u001b[0;34m]\u001b[0m\u001b[0;34m)\u001b[0m\u001b[0;34m\u001b[0m\u001b[0;34m\u001b[0m\u001b[0m\n\u001b[0m\u001b[1;32m     24\u001b[0m \u001b[0mpassword\u001b[0m\u001b[0;34m(\u001b[0m\u001b[0;34m)\u001b[0m\u001b[0;34m\u001b[0m\u001b[0;34m\u001b[0m\u001b[0m\n",
      "\u001b[0;31mKeyError\u001b[0m: 4"
     ]
    }
   ],
   "source": [
    "def password():\n",
    "    print('enter a password\\n\\nThe password must be between 6 to 14 characers.\\n')\n",
    "    \n",
    "    while True:\n",
    "        password = input('password: ')\n",
    "        if 6<=len(password)<14:\n",
    "            break\n",
    "        print('the password must be between 6 to 14 characters.\\n')\n",
    "        \n",
    "    password_scores = {0:'horrible',1:'weak',2:'medium',3:'strong'}\n",
    "    password_strength =dict.fromkeys(['has_upper', 'has_lower', 'has_num','has_specialchar'],False)\n",
    "    if re.search(r'[A-Z]', password):\n",
    "        password_strength['has_upper']= True\n",
    "    if re.search(r'[a-z]', password):\n",
    "        password_strength['has_lower']= True\n",
    "    if re.search(r'[0-9]', password):\n",
    "        password_strength['has_num']= True\n",
    "    if re.search(r'[$\\@\\#\\&\\^\\*]', password):\n",
    "        password_strength['has_specialchar']=True\n",
    "    \n",
    "    score = len([b for b in password_strength.values() if b])\n",
    "        \n",
    "    print('password is %s' %password_scores[score])\n",
    "password()\n"
   ]
  },
  {
   "cell_type": "code",
   "execution_count": null,
   "metadata": {},
   "outputs": [],
   "source": []
  },
  {
   "cell_type": "code",
   "execution_count": null,
   "metadata": {},
   "outputs": [],
   "source": []
  },
  {
   "cell_type": "code",
   "execution_count": null,
   "metadata": {},
   "outputs": [],
   "source": []
  },
  {
   "cell_type": "code",
   "execution_count": null,
   "metadata": {},
   "outputs": [],
   "source": []
  },
  {
   "cell_type": "code",
   "execution_count": null,
   "metadata": {},
   "outputs": [],
   "source": []
  }
 ],
 "metadata": {
  "kernelspec": {
   "display_name": "Python 3",
   "language": "python",
   "name": "python3"
  },
  "language_info": {
   "codemirror_mode": {
    "name": "ipython",
    "version": 3
   },
   "file_extension": ".py",
   "mimetype": "text/x-python",
   "name": "python",
   "nbconvert_exporter": "python",
   "pygments_lexer": "ipython3",
   "version": "3.8.5"
  }
 },
 "nbformat": 4,
 "nbformat_minor": 2
}
